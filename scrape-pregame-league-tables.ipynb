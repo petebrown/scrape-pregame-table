{
 "cells": [
  {
   "cell_type": "code",
   "execution_count": 1,
   "metadata": {},
   "outputs": [],
   "source": [
    "import requests\n",
    "from bs4 import BeautifulSoup\n",
    "import pandas as pd\n",
    "from io import StringIO"
   ]
  },
  {
   "cell_type": "code",
   "execution_count": 2,
   "metadata": {},
   "outputs": [],
   "source": [
    "df = pd.read_csv(\"https://raw.githubusercontent.com/petebrown/data-updater/main/data/results.csv\", parse_dates=[\"game_date\"])"
   ]
  },
  {
   "cell_type": "code",
   "execution_count": 3,
   "metadata": {},
   "outputs": [],
   "source": [
    "df[\"pregame_date\"] = df[\"game_date\"] - pd.Timedelta(days=1)"
   ]
  },
  {
   "cell_type": "code",
   "execution_count": 4,
   "metadata": {},
   "outputs": [],
   "source": [
    "def construct_url(competition, game_date):\n",
    "    game_date = pd.to_datetime(game_date)\n",
    "    day = game_date.day\n",
    "    month = game_date.month_name().lower()\n",
    "    year = game_date.year\n",
    "    division = competition.lower().replace(\" \", \"-\").replace(\"(\", \"\").replace(\")\", \"\")\n",
    "\n",
    "    if day < 10:\n",
    "        day = f'0{day}'\n",
    "    url = f\"https://www.11v11.com/league-tables/{division}/{day}-{month}-{year}/\"\n",
    "    \n",
    "    return url"
   ]
  },
  {
   "cell_type": "code",
   "execution_count": 5,
   "metadata": {},
   "outputs": [],
   "source": [
    "df['url'] = df.apply(lambda x: construct_url(x.competition, x.pregame_date), axis = 1)"
   ]
  },
  {
   "cell_type": "code",
   "execution_count": 26,
   "metadata": {},
   "outputs": [],
   "source": [
    "lge_dates = df.query(\"game_type == 'League' & ssn_comp_game_no > 1 & league_tier <= 4\")[[\"pregame_date\", \"game_date\", \"ssn_comp_game_no\", \"url\"]].rename(columns={\"ssn_comp_game_no\": \"game_no\"})"
   ]
  },
  {
   "cell_type": "code",
   "execution_count": 14,
   "metadata": {},
   "outputs": [],
   "source": [
    "lge_dates = lge_dates.query(\"game_date > '2018-08-01'\")"
   ]
  },
  {
   "cell_type": "code",
   "execution_count": 16,
   "metadata": {},
   "outputs": [],
   "source": [
    "headers = {\n",
    "    'User-Agent': 'Mozilla/5.0 (Macintosh; Intel Mac OS X 10_15_7) AppleWebKit/537.36 (KHTML, like Gecko) Chrome/103.0.0.0 Safari/537.36'\n",
    "}\n",
    "\n",
    "urls = lge_dates['url'].to_list()\n",
    "\n",
    "tables = []\n",
    "for url in urls:\n",
    "    r = requests.get(url, headers = headers)\n",
    "    doc = BeautifulSoup(r.text, 'html.parser')\n",
    "\n",
    "    table = pd.read_html(StringIO(str(doc)))[0]\n",
    "\n",
    "    table[\"pos\"] = table.index + 1\n",
    "    table[\"url\"] = url\n",
    "    \n",
    "    table = table[['pos', 'Team', 'Pld', 'W', 'D', 'L', 'GF', 'GA', 'Pts', 'url']]\n",
    "    \n",
    "    tables.append(table)\n",
    "\n",
    "tables_df = pd.concat(tables)"
   ]
  },
  {
   "cell_type": "code",
   "execution_count": 27,
   "metadata": {},
   "outputs": [],
   "source": [
    "tables_df.merge(lge_dates, how=\"left\", on=\"url\").to_csv(\"./league_tables.csv\", index=False)"
   ]
  },
  {
   "cell_type": "code",
   "execution_count": null,
   "metadata": {},
   "outputs": [],
   "source": []
  }
 ],
 "metadata": {
  "kernelspec": {
   "display_name": "Python 3",
   "language": "python",
   "name": "python3"
  },
  "language_info": {
   "codemirror_mode": {
    "name": "ipython",
    "version": 3
   },
   "file_extension": ".py",
   "mimetype": "text/x-python",
   "name": "python",
   "nbconvert_exporter": "python",
   "pygments_lexer": "ipython3",
   "version": "3.12.1"
  }
 },
 "nbformat": 4,
 "nbformat_minor": 2
}
